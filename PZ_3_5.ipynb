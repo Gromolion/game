{
  "nbformat": 4,
  "nbformat_minor": 0,
  "metadata": {
    "colab": {
      "name": "PZ_3-5.ipynb",
      "provenance": [],
      "collapsed_sections": [],
      "authorship_tag": "ABX9TyMgfnoba1t3Cm3PuA0z4jtz",
      "include_colab_link": true
    },
    "kernelspec": {
      "name": "python3",
      "display_name": "Python 3"
    },
    "language_info": {
      "name": "python"
    }
  },
  "cells": [
    {
      "cell_type": "markdown",
      "metadata": {
        "id": "view-in-github",
        "colab_type": "text"
      },
      "source": [
        "<a href=\"https://colab.research.google.com/github/Gromolion/game/blob/master/PZ_3_5.ipynb\" target=\"_parent\"><img src=\"https://colab.research.google.com/assets/colab-badge.svg\" alt=\"Open In Colab\"/></a>"
      ]
    },
    {
      "cell_type": "code",
      "execution_count": 2,
      "metadata": {
        "colab": {
          "base_uri": "https://localhost:8080/"
        },
        "id": "KhOyo_CmUciI",
        "outputId": "f5c327cb-af8f-4406-fcf1-24c4fb89c34e"
      },
      "outputs": [
        {
          "output_type": "stream",
          "name": "stdout",
          "text": [
            "Введите координаты X и Y через пробел: -7 9\n",
            "Точка с координатами (-7, 9) лежит во второй координатной четверти - True\n"
          ]
        }
      ],
      "source": [
        "#программа для проверки, лежит ли точка с заданными координатами во второй четверти\n",
        "x, y = input('Введите координаты X и Y через пробел: ').split()\n",
        "\n",
        "while type(x) != int or type(y) != int:\n",
        "    #входим в цикл, только если x или y не являются числами\n",
        "\n",
        "    try:\n",
        "        x = int(x)\n",
        "        y = int(y)\n",
        "\n",
        "    except ValueError:\n",
        "        x, y = input('X или Y не является числом. Введите координаты заново: ').split()\n",
        "\n",
        "print(f'Точка с координатами ({x}, {y}) лежит во второй координатной четверти -', True if x < 0 and y > 0 else False)"
      ]
    },
    {
      "cell_type": "code",
      "source": [
        "#программа выводит на экран последовательность целых чисел от a до b(включая b) и количество этих чисел\n",
        "a, b = input('Введите целые цисла a и b (a < b): ').split()\n",
        "\n",
        "while type(a) != int or type(b) != int or a > b:\n",
        "#обработка исключений\n",
        "    try:\n",
        "        a = int(a)\n",
        "        b = int(b)\n",
        "\n",
        "        if a > b:\n",
        "            print('a > b')\n",
        "            a, b = input('Введите a и b заново: ').split()\n",
        "\n",
        "    except ValueError:\n",
        "        print('a или b не целые цисла')\n",
        "        a, b = input('Введите a и b заново: ').split()\n",
        "\n",
        "c = 0\n",
        "for i in range(a, b + 1):\n",
        "#выводит на экран числа в порядке возрастания от a до b(включая b), попутно считая количество этих чисел\n",
        "    print(i)\n",
        "    c += 1\n",
        "\n",
        "print(f'Количество чисел: {c}')"
      ],
      "metadata": {
        "colab": {
          "base_uri": "https://localhost:8080/"
        },
        "id": "1y89pusLU-Sc",
        "outputId": "6ff24452-9bb9-4b40-b814-860cf5b3f0f8"
      },
      "execution_count": 3,
      "outputs": [
        {
          "output_type": "stream",
          "name": "stdout",
          "text": [
            "Введите целые цисла a и b (a < b): 7 19\n",
            "7\n",
            "8\n",
            "9\n",
            "10\n",
            "11\n",
            "12\n",
            "13\n",
            "14\n",
            "15\n",
            "16\n",
            "17\n",
            "18\n",
            "19\n",
            "Количество чисел: 13\n"
          ]
        }
      ]
    },
    {
      "cell_type": "code",
      "source": [
        "# программа находит сумму чисел ряда 1, 2, 3, 4, ... от числа n до m\n",
        "def summa(x, y):\n",
        "    return sum([i for i in range(x, y + 1)])\n",
        "    # мы генерируем список с элементами от x до y и используем\n",
        "    # функцию sum() для получения суммы элементов списка и возвращаем её\n",
        "\n",
        "\n",
        "n, m = input('Введите числа n и m: ').split()\n",
        "\n",
        "while type(n) != int or type(m) != int:\n",
        "    # обработка исключений\n",
        "    try:\n",
        "        n = int(n)\n",
        "        m = int(m)\n",
        "    except ValueError:\n",
        "        n, m = input('Одно из значений не является числом. Введите числа n и m заново: ').split()\n",
        "\n",
        "print('Сумма чисел от n до m:', summa(n, m))"
      ],
      "metadata": {
        "colab": {
          "base_uri": "https://localhost:8080/"
        },
        "id": "lQeq7rgKVJ6i",
        "outputId": "0c54f9a8-cea9-4025-8d18-b45fb53c22f2"
      },
      "execution_count": 4,
      "outputs": [
        {
          "output_type": "stream",
          "name": "stdout",
          "text": [
            "Введите числа n и m: 3 8\n",
            "Сумма чисел от n до m: 33\n"
          ]
        }
      ]
    }
  ]
}